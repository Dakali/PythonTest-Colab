{
  "nbformat": 4,
  "nbformat_minor": 0,
  "metadata": {
    "colab": {
      "name": "intro.ipynb",
      "provenance": [],
      "authorship_tag": "ABX9TyPiKSbvfQdjDC0tk/ZIQ3tu",
      "include_colab_link": true
    },
    "kernelspec": {
      "name": "python3",
      "display_name": "Python 3"
    },
    "language_info": {
      "name": "python"
    }
  },
  "cells": [
    {
      "cell_type": "markdown",
      "metadata": {
        "id": "view-in-github",
        "colab_type": "text"
      },
      "source": [
        "<a href=\"https://colab.research.google.com/github/Dakali/PythonTest-Colab/blob/main/template.ipynb\" target=\"_parent\"><img src=\"https://colab.research.google.com/assets/colab-badge.svg\" alt=\"Open In Colab\"/></a>"
      ]
    },
    {
      "cell_type": "markdown",
      "metadata": {
        "id": "WBPqAdF2S_iO"
      },
      "source": [
        "\n",
        "### test echo echo echo  ###"
      ]
    },
    {
      "cell_type": "code",
      "metadata": {
        "id": "RwXiA7i0lU_P",
        "colab": {
          "base_uri": "https://localhost:8080/"
        },
        "outputId": "b2e36019-d8c4-4ff8-a126-244f653cf47d"
      },
      "source": [
        "print(\"Hello World!\")"
      ],
      "execution_count": 1,
      "outputs": [
        {
          "output_type": "stream",
          "text": [
            "Hello World!\n"
          ],
          "name": "stdout"
        }
      ]
    },
    {
      "cell_type": "code",
      "metadata": {
        "id": "H6ckU1t0nlYR"
      },
      "source": [
        "print(\"Hello Colab!\")"
      ],
      "execution_count": null,
      "outputs": []
    },
    {
      "cell_type": "code",
      "metadata": {
        "colab": {
          "base_uri": "https://localhost:8080/"
        },
        "id": "m_5mXtyOSUeQ",
        "outputId": "c0a9cc78-c47d-4c4a-ddaa-8118757eba15"
      },
      "source": [
        "revenue = 20000\n",
        "tax = 0.19\n",
        "income = revenue*tax\n",
        "\n",
        "income\n"
      ],
      "execution_count": 2,
      "outputs": [
        {
          "output_type": "execute_result",
          "data": {
            "text/plain": [
              "3800.0"
            ]
          },
          "metadata": {
            "tags": []
          },
          "execution_count": 2
        }
      ]
    },
    {
      "cell_type": "markdown",
      "metadata": {
        "id": "yfOiSYJJTZQL"
      },
      "source": [
        "### summary ###"
      ]
    },
    {
      "cell_type": "code",
      "metadata": {
        "colab": {
          "base_uri": "https://localhost:8080/",
          "height": 36
        },
        "id": "4I6S_sITSU08",
        "outputId": "a5074c77-b138-4903-f777-8ae57dd9a277"
      },
      "source": [
        "#import numpy\n",
        "import numpy as np\n",
        "\n",
        "np.__version__"
      ],
      "execution_count": 3,
      "outputs": [
        {
          "output_type": "execute_result",
          "data": {
            "application/vnd.google.colaboratory.intrinsic+json": {
              "type": "string"
            },
            "text/plain": [
              "'1.19.5'"
            ]
          },
          "metadata": {
            "tags": []
          },
          "execution_count": 3
        }
      ]
    },
    {
      "cell_type": "code",
      "metadata": {
        "id": "Ux7k0UQ9SVZ_"
      },
      "source": [
        "#get the help from rand function\n",
        "np.random.rand?"
      ],
      "execution_count": 5,
      "outputs": []
    },
    {
      "cell_type": "code",
      "metadata": {
        "colab": {
          "base_uri": "https://localhost:8080/",
          "height": 338
        },
        "id": "ndprlr07SVcd",
        "outputId": "d46804e3-0441-467b-9435-f607d5fb2b96"
      },
      "source": [
        "#install dependencies\n",
        "import imageai"
      ],
      "execution_count": 6,
      "outputs": [
        {
          "output_type": "error",
          "ename": "ModuleNotFoundError",
          "evalue": "ignored",
          "traceback": [
            "\u001b[0;31m---------------------------------------------------------------------------\u001b[0m",
            "\u001b[0;31mModuleNotFoundError\u001b[0m                       Traceback (most recent call last)",
            "\u001b[0;32m<ipython-input-6-0d8f22b2cddc>\u001b[0m in \u001b[0;36m<module>\u001b[0;34m()\u001b[0m\n\u001b[1;32m      1\u001b[0m \u001b[0;31m#install dependencies\u001b[0m\u001b[0;34m\u001b[0m\u001b[0;34m\u001b[0m\u001b[0;34m\u001b[0m\u001b[0m\n\u001b[0;32m----> 2\u001b[0;31m \u001b[0;32mimport\u001b[0m \u001b[0mimageai\u001b[0m\u001b[0;34m\u001b[0m\u001b[0;34m\u001b[0m\u001b[0m\n\u001b[0m",
            "\u001b[0;31mModuleNotFoundError\u001b[0m: No module named 'imageai'",
            "",
            "\u001b[0;31m---------------------------------------------------------------------------\u001b[0;32m\nNOTE: If your import is failing due to a missing package, you can\nmanually install dependencies using either !pip or !apt.\n\nTo view examples of installing some common dependencies, click the\n\"Open Examples\" button below.\n\u001b[0;31m---------------------------------------------------------------------------\u001b[0m\n"
          ]
        }
      ]
    },
    {
      "cell_type": "code",
      "metadata": {
        "colab": {
          "base_uri": "https://localhost:8080/",
          "height": 935
        },
        "id": "P_M4BdyHUZPB",
        "outputId": "ff4e3167-680a-4332-8342-b8faaf7f0a13"
      },
      "source": [
        "!pip install imageai"
      ],
      "execution_count": 7,
      "outputs": [
        {
          "output_type": "stream",
          "text": [
            "Collecting imageai\n",
            "\u001b[?25l  Downloading https://files.pythonhosted.org/packages/73/44/3d5d8ef572888025666eec284e85f9243faf06ca8c12085dcff1ca9754ed/imageai-2.1.6-py3-none-any.whl (160kB)\n",
            "\u001b[K     |████████████████████████████████| 163kB 5.2MB/s \n",
            "\u001b[?25hCollecting numpy==1.19.3\n",
            "\u001b[?25l  Downloading https://files.pythonhosted.org/packages/65/b3/07864c89acb2a86df6f2e8c9bf091ec5916da58dd3ce3a633a51a02c115e/numpy-1.19.3-cp37-cp37m-manylinux2010_x86_64.whl (14.9MB)\n",
            "\u001b[K     |████████████████████████████████| 14.9MB 270kB/s \n",
            "\u001b[?25hCollecting pillow==7.0.0\n",
            "\u001b[?25l  Downloading https://files.pythonhosted.org/packages/f5/79/b2d5695d1a931474fa68b68ec93bdf08ba9acbc4d6b3b628eb6aac81d11c/Pillow-7.0.0-cp37-cp37m-manylinux1_x86_64.whl (2.1MB)\n",
            "\u001b[K     |████████████████████████████████| 2.1MB 48.4MB/s \n",
            "\u001b[?25hRequirement already satisfied: keras==2.4.3 in /usr/local/lib/python3.7/dist-packages (from imageai) (2.4.3)\n",
            "Requirement already satisfied: scipy==1.4.1 in /usr/local/lib/python3.7/dist-packages (from imageai) (1.4.1)\n",
            "Collecting keras-resnet==0.2.0\n",
            "  Downloading https://files.pythonhosted.org/packages/76/d4/a35cbd07381139dda4db42c81b88c59254faac026109022727b45b31bcad/keras-resnet-0.2.0.tar.gz\n",
            "Requirement already satisfied: h5py==2.10.0 in /usr/local/lib/python3.7/dist-packages (from imageai) (2.10.0)\n",
            "Collecting matplotlib==3.3.2\n",
            "\u001b[?25l  Downloading https://files.pythonhosted.org/packages/87/a6/8d7d06f6b69236a3c1818157875ceb1259ba0d9df4194f4fe138ffdc0f41/matplotlib-3.3.2-cp37-cp37m-manylinux1_x86_64.whl (11.6MB)\n",
            "\u001b[K     |████████████████████████████████| 11.6MB 197kB/s \n",
            "\u001b[?25hRequirement already satisfied: opencv-python in /usr/local/lib/python3.7/dist-packages (from imageai) (4.1.2.30)\n",
            "Requirement already satisfied: pyyaml in /usr/local/lib/python3.7/dist-packages (from keras==2.4.3->imageai) (3.13)\n",
            "Requirement already satisfied: six in /usr/local/lib/python3.7/dist-packages (from h5py==2.10.0->imageai) (1.15.0)\n",
            "Requirement already satisfied: kiwisolver>=1.0.1 in /usr/local/lib/python3.7/dist-packages (from matplotlib==3.3.2->imageai) (1.3.1)\n",
            "Requirement already satisfied: certifi>=2020.06.20 in /usr/local/lib/python3.7/dist-packages (from matplotlib==3.3.2->imageai) (2020.12.5)\n",
            "Requirement already satisfied: cycler>=0.10 in /usr/local/lib/python3.7/dist-packages (from matplotlib==3.3.2->imageai) (0.10.0)\n",
            "Requirement already satisfied: pyparsing!=2.0.4,!=2.1.2,!=2.1.6,>=2.0.3 in /usr/local/lib/python3.7/dist-packages (from matplotlib==3.3.2->imageai) (2.4.7)\n",
            "Requirement already satisfied: python-dateutil>=2.1 in /usr/local/lib/python3.7/dist-packages (from matplotlib==3.3.2->imageai) (2.8.1)\n",
            "Building wheels for collected packages: keras-resnet\n",
            "  Building wheel for keras-resnet (setup.py) ... \u001b[?25l\u001b[?25hdone\n",
            "  Created wheel for keras-resnet: filename=keras_resnet-0.2.0-py2.py3-none-any.whl size=20486 sha256=7325280ea8d49cb92033f4998d5e32b1647f54dd1596e2cc042628d6243f8157\n",
            "  Stored in directory: /root/.cache/pip/wheels/5f/09/a5/497a30fd9ad9964e98a1254d1e164bcd1b8a5eda36197ecb3c\n",
            "Successfully built keras-resnet\n",
            "\u001b[31mERROR: datascience 0.10.6 has requirement folium==0.2.1, but you'll have folium 0.8.3 which is incompatible.\u001b[0m\n",
            "\u001b[31mERROR: bokeh 2.3.1 has requirement pillow>=7.1.0, but you'll have pillow 7.0.0 which is incompatible.\u001b[0m\n",
            "\u001b[31mERROR: albumentations 0.1.12 has requirement imgaug<0.2.7,>=0.2.5, but you'll have imgaug 0.2.9 which is incompatible.\u001b[0m\n",
            "Installing collected packages: numpy, pillow, keras-resnet, matplotlib, imageai\n",
            "  Found existing installation: numpy 1.19.5\n",
            "    Uninstalling numpy-1.19.5:\n",
            "      Successfully uninstalled numpy-1.19.5\n",
            "  Found existing installation: Pillow 7.1.2\n",
            "    Uninstalling Pillow-7.1.2:\n",
            "      Successfully uninstalled Pillow-7.1.2\n",
            "  Found existing installation: matplotlib 3.2.2\n",
            "    Uninstalling matplotlib-3.2.2:\n",
            "      Successfully uninstalled matplotlib-3.2.2\n",
            "Successfully installed imageai-2.1.6 keras-resnet-0.2.0 matplotlib-3.3.2 numpy-1.19.3 pillow-7.0.0\n"
          ],
          "name": "stdout"
        },
        {
          "output_type": "display_data",
          "data": {
            "application/vnd.colab-display-data+json": {
              "pip_warning": {
                "packages": [
                  "PIL",
                  "matplotlib",
                  "mpl_toolkits",
                  "numpy"
                ]
              }
            }
          },
          "metadata": {
            "tags": []
          }
        }
      ]
    },
    {
      "cell_type": "code",
      "metadata": {
        "id": "vEU6ZF6NUkyR"
      },
      "source": [
        "import imageai"
      ],
      "execution_count": 1,
      "outputs": []
    },
    {
      "cell_type": "markdown",
      "metadata": {
        "id": "X-S7Od-MVMYq"
      },
      "source": [
        "#Markdown"
      ]
    },
    {
      "cell_type": "markdown",
      "metadata": {
        "id": "LSpK8Cd4VPpN"
      },
      "source": [
        "examples of *balise* #italic\n",
        "examples of **balise** ( __markdown__ ) #bold\n",
        "examples of `balise` #other style\n",
        "examples of \n",
        "```\n",
        "balise\n",
        "```\n",
        "\n",
        ">Langue #indentation\n",
        ">>> Code\n",
        "\n",
        "Ordered List:\n",
        "1. Buu\n",
        "2. Freezer\n",
        "3. Cell\n",
        "\n",
        "Unordered List:\n",
        "* Patate\n",
        "* Macabo\n",
        "* Plantain\n",
        "\n",
        "#Insert Link\n",
        "[Mr.7heDak](https://rozorus.netlify.app/)\n",
        "\n",
        "#Insert Image\n",
        "![kazantceva](data:image/jpeg;base64,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)\n",
        "\n",
        "#Mathematical Formulas\n",
        "$y = x^4$\n",
        "$\\frac{1}{1008} \\sum_{i=1}^{n}x_{i}$\n",
        "\n",
        "#Matrix\n",
        "$A=\\begin{pmatrix}\n",
        "a_{1,1} & a_{1,2} \\\\\n",
        "a_{2,1} & a_{2,2} \n",
        "\\end{pmatrix}\n",
        "$\n",
        "\n",
        "#Simple Table\n",
        "colHeader1 | colHeader2 | colHeader3 \n",
        "--- | --- | --- \n",
        "val1 | val1 | val1 \n",
        "val4 | val5 | val6\n",
        "\n",
        "\n",
        "\n"
      ]
    },
    {
      "cell_type": "code",
      "metadata": {
        "id": "GQZFoC17U9G0"
      },
      "source": [
        ""
      ],
      "execution_count": null,
      "outputs": []
    }
  ]
}